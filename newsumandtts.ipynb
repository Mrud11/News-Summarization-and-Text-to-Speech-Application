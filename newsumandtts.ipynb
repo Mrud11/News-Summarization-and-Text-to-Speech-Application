{
  "cells": [
    {
      "cell_type": "code",
      "execution_count": null,
      "metadata": {
        "id": "ffNA1CElpPRU",
        "colab": {
          "base_uri": "https://localhost:8080/"
        },
        "outputId": "5766440f-9b92-4c09-a1a7-a2c26035de29"
      },
      "outputs": [
        {
          "output_type": "stream",
          "name": "stdout",
          "text": [
            "Requirement already satisfied: requests in /usr/local/lib/python3.11/dist-packages (2.32.3)\n",
            "Requirement already satisfied: beautifulsoup4 in /usr/local/lib/python3.11/dist-packages (4.13.3)\n",
            "Requirement already satisfied: feedparser in /usr/local/lib/python3.11/dist-packages (6.0.11)\n",
            "Requirement already satisfied: pandas in /usr/local/lib/python3.11/dist-packages (2.2.2)\n",
            "Requirement already satisfied: charset-normalizer<4,>=2 in /usr/local/lib/python3.11/dist-packages (from requests) (3.4.1)\n",
            "Requirement already satisfied: idna<4,>=2.5 in /usr/local/lib/python3.11/dist-packages (from requests) (2.10)\n",
            "Requirement already satisfied: urllib3<3,>=1.21.1 in /usr/local/lib/python3.11/dist-packages (from requests) (2.3.0)\n",
            "Requirement already satisfied: certifi>=2017.4.17 in /usr/local/lib/python3.11/dist-packages (from requests) (2025.1.31)\n",
            "Requirement already satisfied: soupsieve>1.2 in /usr/local/lib/python3.11/dist-packages (from beautifulsoup4) (2.6)\n",
            "Requirement already satisfied: typing-extensions>=4.0.0 in /usr/local/lib/python3.11/dist-packages (from beautifulsoup4) (4.12.2)\n",
            "Requirement already satisfied: sgmllib3k in /usr/local/lib/python3.11/dist-packages (from feedparser) (1.0.0)\n",
            "Requirement already satisfied: numpy>=1.23.2 in /usr/local/lib/python3.11/dist-packages (from pandas) (2.0.2)\n",
            "Requirement already satisfied: python-dateutil>=2.8.2 in /usr/local/lib/python3.11/dist-packages (from pandas) (2.8.2)\n",
            "Requirement already satisfied: pytz>=2020.1 in /usr/local/lib/python3.11/dist-packages (from pandas) (2025.1)\n",
            "Requirement already satisfied: tzdata>=2022.7 in /usr/local/lib/python3.11/dist-packages (from pandas) (2025.1)\n",
            "Requirement already satisfied: six>=1.5 in /usr/local/lib/python3.11/dist-packages (from python-dateutil>=2.8.2->pandas) (1.17.0)\n"
          ]
        }
      ],
      "source": [
        "#installing libraries\n",
        "!pip install requests beautifulsoup4 feedparser pandas"
      ]
    },
    {
      "cell_type": "code",
      "execution_count": null,
      "metadata": {
        "id": "Tj0L_tsQNirc"
      },
      "outputs": [],
      "source": [
        "#importing the necessary libraries\n",
        "import feedparser\n",
        "import pandas as pd"
      ]
    },
    {
      "cell_type": "code",
      "execution_count": null,
      "metadata": {
        "id": "pqLUc1Y2Nr2H"
      },
      "outputs": [],
      "source": [
        "#defining the url & fetching the data\n",
        "rss_url = (\"https://news.google.com/rss/search?q=Tata+Group&hl=en-IN&gl=IN&ceid=IN:en\")\n",
        "feed = feedparser.parse(rss_url)\n"
      ]
    },
    {
      "cell_type": "code",
      "execution_count": null,
      "metadata": {
        "colab": {
          "base_uri": "https://localhost:8080/"
        },
        "id": "fLMR4UuBOnAr",
        "outputId": "b939f5dd-b524-4b0e-c51d-d96d62e44640"
      },
      "outputs": [
        {
          "output_type": "stream",
          "name": "stdout",
          "text": [
            "                                               Title  \\\n",
            "0  Tata Group stock skyrockets 10% after receivin...   \n",
            "1  Tata Group companies quietly partner with Elon...   \n",
            "2  Ratan Tata reunited with his first true love a...   \n",
            "3  Tata stocks to buy, share price target 2025: U...   \n",
            "4  Not Ratan Tata, but THIS man from Pakistan was...   \n",
            "5              Noel Tata—a new era begins - The Week   \n",
            "6  Meet woman, who rejected Rs 70000000000 offer ...   \n",
            "7  Tata stocks lose nearly Rs 3 lakh crore in FY2...   \n",
            "8  BSE 500 Tata stock zooms 17% today; do you own...   \n",
            "9  This man from Pakistan was brain behind Ratan ...   \n",
            "\n",
            "                                             Summary  \\\n",
            "0  <a href=\"https://news.google.com/rss/articles/...   \n",
            "1  <ol><li><a href=\"https://news.google.com/rss/a...   \n",
            "2  <a href=\"https://news.google.com/rss/articles/...   \n",
            "3  <a href=\"https://news.google.com/rss/articles/...   \n",
            "4  <a href=\"https://news.google.com/rss/articles/...   \n",
            "5  <a href=\"https://news.google.com/rss/articles/...   \n",
            "6  <a href=\"https://news.google.com/rss/articles/...   \n",
            "7  <a href=\"https://news.google.com/rss/articles/...   \n",
            "8  <a href=\"https://news.google.com/rss/articles/...   \n",
            "9  <a href=\"https://news.google.com/rss/articles/...   \n",
            "\n",
            "                                                Link  \n",
            "0  https://news.google.com/rss/articles/CBMitAFBV...  \n",
            "1  https://news.google.com/rss/articles/CBMijwJBV...  \n",
            "2  https://news.google.com/rss/articles/CBMihAJBV...  \n",
            "3  https://news.google.com/rss/articles/CBMi0gFBV...  \n",
            "4  https://news.google.com/rss/articles/CBMiiwJBV...  \n",
            "5  https://news.google.com/rss/articles/CBMijAFBV...  \n",
            "6  https://news.google.com/rss/articles/CBMimwJBV...  \n",
            "7  https://news.google.com/rss/articles/CBMi8wFBV...  \n",
            "8  https://news.google.com/rss/articles/CBMinAFBV...  \n",
            "9  https://news.google.com/rss/articles/CBMivAJBV...  \n"
          ]
        }
      ],
      "source": [
        "#extracting Titles, Links, Summaries & Date\n",
        "news_list = []\n",
        "\n",
        "for entry in feed.entries[:10]:  # Extracting only 15 articles\n",
        "    news_list.append({\n",
        "        \"Title\": entry.title,\n",
        "        \"Summary\": entry.summary,\n",
        "        \"Link\": entry.link,\n",
        "    })\n",
        "\n",
        "df = pd.DataFrame(news_list)\n",
        "print(df)\n"
      ]
    },
    {
      "cell_type": "code",
      "execution_count": null,
      "metadata": {
        "id": "mSipzVkQUwgU"
      },
      "outputs": [],
      "source": [
        "#Saving Data to a CSV File\n",
        "df.to_csv(\"tata_news.csv\", index=False)"
      ]
    },
    {
      "cell_type": "code",
      "execution_count": null,
      "metadata": {
        "id": "rercWCuFWr3F",
        "colab": {
          "base_uri": "https://localhost:8080/",
          "height": 17
        },
        "outputId": "fd22c01f-3345-468f-c71c-1f2de825554e"
      },
      "outputs": [
        {
          "output_type": "display_data",
          "data": {
            "text/plain": [
              "<IPython.core.display.Javascript object>"
            ],
            "application/javascript": [
              "\n",
              "    async function download(id, filename, size) {\n",
              "      if (!google.colab.kernel.accessAllowed) {\n",
              "        return;\n",
              "      }\n",
              "      const div = document.createElement('div');\n",
              "      const label = document.createElement('label');\n",
              "      label.textContent = `Downloading \"${filename}\": `;\n",
              "      div.appendChild(label);\n",
              "      const progress = document.createElement('progress');\n",
              "      progress.max = size;\n",
              "      div.appendChild(progress);\n",
              "      document.body.appendChild(div);\n",
              "\n",
              "      const buffers = [];\n",
              "      let downloaded = 0;\n",
              "\n",
              "      const channel = await google.colab.kernel.comms.open(id);\n",
              "      // Send a message to notify the kernel that we're ready.\n",
              "      channel.send({})\n",
              "\n",
              "      for await (const message of channel.messages) {\n",
              "        // Send a message to notify the kernel that we're ready.\n",
              "        channel.send({})\n",
              "        if (message.buffers) {\n",
              "          for (const buffer of message.buffers) {\n",
              "            buffers.push(buffer);\n",
              "            downloaded += buffer.byteLength;\n",
              "            progress.value = downloaded;\n",
              "          }\n",
              "        }\n",
              "      }\n",
              "      const blob = new Blob(buffers, {type: 'application/binary'});\n",
              "      const a = document.createElement('a');\n",
              "      a.href = window.URL.createObjectURL(blob);\n",
              "      a.download = filename;\n",
              "      div.appendChild(a);\n",
              "      a.click();\n",
              "      div.remove();\n",
              "    }\n",
              "  "
            ]
          },
          "metadata": {}
        },
        {
          "output_type": "display_data",
          "data": {
            "text/plain": [
              "<IPython.core.display.Javascript object>"
            ],
            "application/javascript": [
              "download(\"download_134837ab-676d-45f3-9ffa-8451aecf4669\", \"tata_news.csv\", 17689)"
            ]
          },
          "metadata": {}
        }
      ],
      "source": [
        "#downloading the csv file\n",
        "from google.colab import files\n",
        "files.download(\"tata_news.csv\")"
      ]
    },
    {
      "cell_type": "code",
      "execution_count": null,
      "metadata": {
        "colab": {
          "base_uri": "https://localhost:8080/"
        },
        "id": "5sz2TP8zWKLJ",
        "outputId": "b368fda6-9b83-4860-c6ef-4b6e462b2efc"
      },
      "outputs": [
        {
          "output_type": "stream",
          "name": "stdout",
          "text": [
            "                                               Title  \\\n",
            "0  Tata Group stock skyrockets 10% after receivin...   \n",
            "1  Tata Group companies quietly partner with Elon...   \n",
            "2  Ratan Tata reunited with his first true love a...   \n",
            "3  Tata stocks to buy, share price target 2025: U...   \n",
            "4  Not Ratan Tata, but THIS man from Pakistan was...   \n",
            "5              Noel Tata—a new era begins - The Week   \n",
            "6  Meet woman, who rejected Rs 70000000000 offer ...   \n",
            "7  Tata stocks lose nearly Rs 3 lakh crore in FY2...   \n",
            "8  BSE 500 Tata stock zooms 17% today; do you own...   \n",
            "9  This man from Pakistan was brain behind Ratan ...   \n",
            "\n",
            "                                             Summary  \\\n",
            "0  <a href=\"https://news.google.com/rss/articles/...   \n",
            "1  <ol><li><a href=\"https://news.google.com/rss/a...   \n",
            "2  <a href=\"https://news.google.com/rss/articles/...   \n",
            "3  <a href=\"https://news.google.com/rss/articles/...   \n",
            "4  <a href=\"https://news.google.com/rss/articles/...   \n",
            "5  <a href=\"https://news.google.com/rss/articles/...   \n",
            "6  <a href=\"https://news.google.com/rss/articles/...   \n",
            "7  <a href=\"https://news.google.com/rss/articles/...   \n",
            "8  <a href=\"https://news.google.com/rss/articles/...   \n",
            "9  <a href=\"https://news.google.com/rss/articles/...   \n",
            "\n",
            "                                                Link  \n",
            "0  https://news.google.com/rss/articles/CBMitAFBV...  \n",
            "1  https://news.google.com/rss/articles/CBMijwJBV...  \n",
            "2  https://news.google.com/rss/articles/CBMihAJBV...  \n",
            "3  https://news.google.com/rss/articles/CBMi0gFBV...  \n",
            "4  https://news.google.com/rss/articles/CBMiiwJBV...  \n",
            "5  https://news.google.com/rss/articles/CBMijAFBV...  \n",
            "6  https://news.google.com/rss/articles/CBMimwJBV...  \n",
            "7  https://news.google.com/rss/articles/CBMi8wFBV...  \n",
            "8  https://news.google.com/rss/articles/CBMinAFBV...  \n",
            "9  https://news.google.com/rss/articles/CBMivAJBV...  \n"
          ]
        }
      ],
      "source": [
        "#reading the csv\n",
        "df = pd.read_csv(\"tata_news.csv\")\n",
        "print(df.head(10))  # Display first 10 rows"
      ]
    },
    {
      "cell_type": "code",
      "execution_count": null,
      "metadata": {
        "colab": {
          "base_uri": "https://localhost:8080/"
        },
        "id": "9zZo4njiZZuw",
        "outputId": "f4478645-d1cf-4192-ae44-949e69e091e6"
      },
      "outputs": [
        {
          "output_type": "stream",
          "name": "stderr",
          "text": [
            "[nltk_data] Downloading package vader_lexicon to /root/nltk_data...\n",
            "[nltk_data]   Package vader_lexicon is already up-to-date!\n"
          ]
        },
        {
          "output_type": "execute_result",
          "data": {
            "text/plain": [
              "True"
            ]
          },
          "metadata": {},
          "execution_count": 98
        }
      ],
      "source": [
        "#installing NLtk\n",
        "import nltk\n",
        "nltk.download(\"vader_lexicon\")"
      ]
    },
    {
      "cell_type": "code",
      "execution_count": null,
      "metadata": {
        "id": "UNeL3UqhaBgr"
      },
      "outputs": [],
      "source": [
        "#Loading the tata news dataset\n",
        "from nltk.sentiment import SentimentIntensityAnalyzer\n",
        "\n",
        "# Load Tata Group news data\n",
        "df = pd.read_csv(\"tata_news.csv\")\n",
        "\n",
        "# Initialize Sentiment Analyzer\n",
        "sia = SentimentIntensityAnalyzer()\n"
      ]
    },
    {
      "cell_type": "code",
      "execution_count": null,
      "metadata": {
        "colab": {
          "base_uri": "https://localhost:8080/"
        },
        "id": "z74TSJ2FaSrx",
        "outputId": "fcabea18-653d-4904-f2f0-853dbaf52453"
      },
      "outputs": [
        {
          "output_type": "stream",
          "name": "stdout",
          "text": [
            "                                               Title  \\\n",
            "0  Tata Group stock skyrockets 10% after receivin...   \n",
            "1  Tata Group companies quietly partner with Elon...   \n",
            "2  Ratan Tata reunited with his first true love a...   \n",
            "3  Tata stocks to buy, share price target 2025: U...   \n",
            "4  Not Ratan Tata, but THIS man from Pakistan was...   \n",
            "5              Noel Tata—a new era begins - The Week   \n",
            "6  Meet woman, who rejected Rs 70000000000 offer ...   \n",
            "7  Tata stocks lose nearly Rs 3 lakh crore in FY2...   \n",
            "8  BSE 500 Tata stock zooms 17% today; do you own...   \n",
            "9  This man from Pakistan was brain behind Ratan ...   \n",
            "\n",
            "                                             Summary Sentiment  \n",
            "0  <a href=\"https://news.google.com/rss/articles/...  Positive  \n",
            "1  <ol><li><a href=\"https://news.google.com/rss/a...   Neutral  \n",
            "2  <a href=\"https://news.google.com/rss/articles/...  Positive  \n",
            "3  <a href=\"https://news.google.com/rss/articles/...  Positive  \n",
            "4  <a href=\"https://news.google.com/rss/articles/...   Neutral  \n",
            "5  <a href=\"https://news.google.com/rss/articles/...   Neutral  \n",
            "6  <a href=\"https://news.google.com/rss/articles/...  Negative  \n",
            "7  <a href=\"https://news.google.com/rss/articles/...  Negative  \n",
            "8  <a href=\"https://news.google.com/rss/articles/...   Neutral  \n",
            "9  <a href=\"https://news.google.com/rss/articles/...   Neutral  \n"
          ]
        }
      ],
      "source": [
        "#performing sentiment analysis\n",
        "def get_sentiment(text):\n",
        "    score = sia.polarity_scores(text)[\"compound\"]\n",
        "    if score > 0:\n",
        "        return \"Positive\"\n",
        "    elif score < 0:\n",
        "        return \"Negative\"\n",
        "    else:\n",
        "        return \"Neutral\"\n",
        "\n",
        "# Apply sentiment analysis on news summaries\n",
        "df[\"Sentiment\"] = df[\"Summary\"].apply(get_sentiment)\n",
        "\n",
        "# Print results\n",
        "print(df[[\"Title\", \"Summary\", \"Sentiment\"]])\n"
      ]
    },
    {
      "cell_type": "code",
      "execution_count": null,
      "metadata": {
        "id": "S52PXIAOe_wz"
      },
      "outputs": [],
      "source": [
        "#Saving the Results\n",
        "df.to_csv(\"tata_news_sentiment.csv\", index=False)"
      ]
    },
    {
      "cell_type": "code",
      "execution_count": null,
      "metadata": {
        "colab": {
          "base_uri": "https://localhost:8080/",
          "height": 17
        },
        "id": "epVqdXD-iYpB",
        "outputId": "9c7d2ee8-e41a-4424-b1ff-7a29a7c75bc8"
      },
      "outputs": [
        {
          "output_type": "display_data",
          "data": {
            "text/plain": [
              "<IPython.core.display.Javascript object>"
            ],
            "application/javascript": [
              "\n",
              "    async function download(id, filename, size) {\n",
              "      if (!google.colab.kernel.accessAllowed) {\n",
              "        return;\n",
              "      }\n",
              "      const div = document.createElement('div');\n",
              "      const label = document.createElement('label');\n",
              "      label.textContent = `Downloading \"${filename}\": `;\n",
              "      div.appendChild(label);\n",
              "      const progress = document.createElement('progress');\n",
              "      progress.max = size;\n",
              "      div.appendChild(progress);\n",
              "      document.body.appendChild(div);\n",
              "\n",
              "      const buffers = [];\n",
              "      let downloaded = 0;\n",
              "\n",
              "      const channel = await google.colab.kernel.comms.open(id);\n",
              "      // Send a message to notify the kernel that we're ready.\n",
              "      channel.send({})\n",
              "\n",
              "      for await (const message of channel.messages) {\n",
              "        // Send a message to notify the kernel that we're ready.\n",
              "        channel.send({})\n",
              "        if (message.buffers) {\n",
              "          for (const buffer of message.buffers) {\n",
              "            buffers.push(buffer);\n",
              "            downloaded += buffer.byteLength;\n",
              "            progress.value = downloaded;\n",
              "          }\n",
              "        }\n",
              "      }\n",
              "      const blob = new Blob(buffers, {type: 'application/binary'});\n",
              "      const a = document.createElement('a');\n",
              "      a.href = window.URL.createObjectURL(blob);\n",
              "      a.download = filename;\n",
              "      div.appendChild(a);\n",
              "      a.click();\n",
              "      div.remove();\n",
              "    }\n",
              "  "
            ]
          },
          "metadata": {}
        },
        {
          "output_type": "display_data",
          "data": {
            "text/plain": [
              "<IPython.core.display.Javascript object>"
            ],
            "application/javascript": [
              "download(\"download_8af3afa2-1f90-400d-bf9c-301e3e0bba9c\", \"tata_news_sentiment.csv\", 17784)"
            ]
          },
          "metadata": {}
        }
      ],
      "source": [
        "#downloading the results to a csv file\n",
        "from google.colab import files\n",
        "files.download(\"tata_news_sentiment.csv\")"
      ]
    },
    {
      "cell_type": "markdown",
      "metadata": {
        "id": "mWAtQ1T6rlrL"
      },
      "source": [
        "STEP 3"
      ]
    },
    {
      "cell_type": "code",
      "execution_count": null,
      "metadata": {
        "colab": {
          "base_uri": "https://localhost:8080/"
        },
        "id": "aXN8OU39roWl",
        "outputId": "210efbad-b646-4e23-da9a-84bab7558b5c"
      },
      "outputs": [
        {
          "output_type": "stream",
          "name": "stderr",
          "text": [
            "[nltk_data] Downloading package punkt to /root/nltk_data...\n",
            "[nltk_data]   Package punkt is already up-to-date!\n",
            "[nltk_data] Downloading package stopwords to /root/nltk_data...\n",
            "[nltk_data]   Package stopwords is already up-to-date!\n",
            "[nltk_data] Downloading package punkt to /root/nltk_data...\n",
            "[nltk_data]   Package punkt is already up-to-date!\n"
          ]
        }
      ],
      "source": [
        "# Import Required Libraries\n",
        "\n",
        "#import nltk\n",
        "from collections import Counter\n",
        "from nltk.tokenize import word_tokenize\n",
        "from nltk.corpus import stopwords\n",
        "\n",
        "# Download necessary NLTK resources\n",
        "nltk.download(\"punkt\")\n",
        "nltk.download(\"stopwords\")\n",
        "nltk.download('punkt') # Download the punkt resource\n",
        "\n",
        "# Load the sentiment-analyzed dataset\n",
        "df = pd.read_csv(\"tata_news_sentiment.csv\")\n",
        "\n",
        "# Initialize stopwords list\n",
        "stop_words = set(stopwords.words(\"english\"))"
      ]
    },
    {
      "cell_type": "code",
      "execution_count": null,
      "metadata": {
        "id": "M06htsadyc-9"
      },
      "outputs": [],
      "source": [
        "#Extracting Key Topics from Each Article\n",
        "import spacy\n",
        "nlp = spacy.load(\"en_core_web_sm\")\n",
        "\n",
        "def extract_topics(text):\n",
        "    doc = nlp(text.lower())  # Tokenize & lowercase\n",
        "    words = [token.text for token in doc if token.is_alpha and token.text not in stop_words]\n",
        "    common_words = Counter(words).most_common(3)\n",
        "    return [word[0] for word in common_words]\n",
        "\n",
        "df[\"Topics\"] = df[\"Summary\"].apply(extract_topics)\n",
        "\n"
      ]
    },
    {
      "cell_type": "code",
      "execution_count": null,
      "metadata": {
        "colab": {
          "base_uri": "https://localhost:8080/"
        },
        "id": "n5njxJJc74KM",
        "outputId": "6b8809df-aa4f-4bf2-b171-25a979250100"
      },
      "outputs": [
        {
          "output_type": "stream",
          "name": "stdout",
          "text": [
            "Sentiment Distribution:\n",
            " Sentiment\n",
            "Neutral     50.0\n",
            "Positive    30.0\n",
            "Negative    20.0\n",
            "Name: proportion, dtype: float64\n"
          ]
        }
      ],
      "source": [
        "#Generating Sentiment Distributionv\n",
        "sentiment_counts = df[\"Sentiment\"].value_counts(normalize=True) * 100\n",
        "print(\"Sentiment Distribution:\\n\", sentiment_counts)"
      ]
    },
    {
      "cell_type": "code",
      "execution_count": null,
      "metadata": {
        "colab": {
          "base_uri": "https://localhost:8080/"
        },
        "id": "oYxzyYvA8DjD",
        "outputId": "d05edb2b-a21b-44ac-fc26-f13fcb9c3dbb"
      },
      "outputs": [
        {
          "output_type": "stream",
          "name": "stdout",
          "text": [
            "                                           Article 1  \\\n",
            "0  Tata Group stock skyrockets 10% after receivin...   \n",
            "1  Tata Group companies quietly partner with Elon...   \n",
            "2  Ratan Tata reunited with his first true love a...   \n",
            "3  Tata stocks to buy, share price target 2025: U...   \n",
            "4  Not Ratan Tata, but THIS man from Pakistan was...   \n",
            "5              Noel Tata—a new era begins - The Week   \n",
            "6  Meet woman, who rejected Rs 70000000000 offer ...   \n",
            "7  Tata stocks lose nearly Rs 3 lakh crore in FY2...   \n",
            "8  BSE 500 Tata stock zooms 17% today; do you own...   \n",
            "\n",
            "                                           Article 2  \\\n",
            "0  Tata Group companies quietly partner with Elon...   \n",
            "1  Ratan Tata reunited with his first true love a...   \n",
            "2  Tata stocks to buy, share price target 2025: U...   \n",
            "3  Not Ratan Tata, but THIS man from Pakistan was...   \n",
            "4              Noel Tata—a new era begins - The Week   \n",
            "5  Meet woman, who rejected Rs 70000000000 offer ...   \n",
            "6  Tata stocks lose nearly Rs 3 lakh crore in FY2...   \n",
            "7  BSE 500 Tata stock zooms 17% today; do you own...   \n",
            "8  This man from Pakistan was brain behind Ratan ...   \n",
            "\n",
            "                                          Comparison  \\\n",
            "0  Article 1 focuses on ['rss', 'articles', 'grou...   \n",
            "1  Article 1 focuses on ['rss', 'articles', 'grou...   \n",
            "2  Article 1 focuses on ['rss', 'articles', 'tata...   \n",
            "3  Article 1 focuses on ['rss', 'articles', 'stoc...   \n",
            "4  Article 1 focuses on ['tata', 'rss', 'articles...   \n",
            "5  Article 1 focuses on ['rss', 'articles', 'tata...   \n",
            "6  Article 1 focuses on ['rs', 'rss', 'articles']...   \n",
            "7  Article 1 focuses on ['rss', 'articles', 'stoc...   \n",
            "8  Article 1 focuses on ['rss', 'articles', 'tata...   \n",
            "\n",
            "                                    Sentiment Impact  \n",
            "0  Article 1 is Positive, while Article 2 is Neut...  \n",
            "1  Article 1 is Neutral, while Article 2 is Posit...  \n",
            "2  Article 1 is Positive, while Article 2 is Posi...  \n",
            "3  Article 1 is Positive, while Article 2 is Neut...  \n",
            "4  Article 1 is Neutral, while Article 2 is Neutral.  \n",
            "5  Article 1 is Neutral, while Article 2 is Negat...  \n",
            "6  Article 1 is Negative, while Article 2 is Nega...  \n",
            "7  Article 1 is Negative, while Article 2 is Neut...  \n",
            "8  Article 1 is Neutral, while Article 2 is Neutral.  \n"
          ]
        }
      ],
      "source": [
        "#Performing Comparative Analysis\n",
        "comparisons = []\n",
        "articles = df.to_dict(\"records\")  # Convert to list of dictionaries\n",
        "\n",
        "for i in range(len(articles) - 1):\n",
        "    comparison = {\n",
        "        \"Article 1\": articles[i][\"Title\"],\n",
        "        \"Article 2\": articles[i + 1][\"Title\"],\n",
        "        \"Comparison\": f\"Article 1 focuses on {articles[i]['Topics']}, while Article 2 covers {articles[i+1]['Topics']}.\",\n",
        "        \"Sentiment Impact\": f\"Article 1 is {articles[i]['Sentiment']}, while Article 2 is {articles[i+1]['Sentiment']}.\"\n",
        "    }\n",
        "    comparisons.append(comparison)\n",
        "\n",
        "df_comparison = pd.DataFrame(comparisons)\n",
        "print(df_comparison)\n"
      ]
    },
    {
      "cell_type": "code",
      "execution_count": null,
      "metadata": {
        "colab": {
          "base_uri": "https://localhost:8080/",
          "height": 17
        },
        "id": "TiHnOCuc9Wgc",
        "outputId": "6a0cdb5f-7a3c-4595-91d2-d394b84f0aba"
      },
      "outputs": [
        {
          "output_type": "display_data",
          "data": {
            "text/plain": [
              "<IPython.core.display.Javascript object>"
            ],
            "application/javascript": [
              "\n",
              "    async function download(id, filename, size) {\n",
              "      if (!google.colab.kernel.accessAllowed) {\n",
              "        return;\n",
              "      }\n",
              "      const div = document.createElement('div');\n",
              "      const label = document.createElement('label');\n",
              "      label.textContent = `Downloading \"${filename}\": `;\n",
              "      div.appendChild(label);\n",
              "      const progress = document.createElement('progress');\n",
              "      progress.max = size;\n",
              "      div.appendChild(progress);\n",
              "      document.body.appendChild(div);\n",
              "\n",
              "      const buffers = [];\n",
              "      let downloaded = 0;\n",
              "\n",
              "      const channel = await google.colab.kernel.comms.open(id);\n",
              "      // Send a message to notify the kernel that we're ready.\n",
              "      channel.send({})\n",
              "\n",
              "      for await (const message of channel.messages) {\n",
              "        // Send a message to notify the kernel that we're ready.\n",
              "        channel.send({})\n",
              "        if (message.buffers) {\n",
              "          for (const buffer of message.buffers) {\n",
              "            buffers.push(buffer);\n",
              "            downloaded += buffer.byteLength;\n",
              "            progress.value = downloaded;\n",
              "          }\n",
              "        }\n",
              "      }\n",
              "      const blob = new Blob(buffers, {type: 'application/binary'});\n",
              "      const a = document.createElement('a');\n",
              "      a.href = window.URL.createObjectURL(blob);\n",
              "      a.download = filename;\n",
              "      div.appendChild(a);\n",
              "      a.click();\n",
              "      div.remove();\n",
              "    }\n",
              "  "
            ]
          },
          "metadata": {}
        },
        {
          "output_type": "display_data",
          "data": {
            "text/plain": [
              "<IPython.core.display.Javascript object>"
            ],
            "application/javascript": [
              "download(\"download_d41f3d8e-6924-44a0-b88f-679fbc71966f\", \"tata_news_comparison_report.csv\", 3344)"
            ]
          },
          "metadata": {}
        }
      ],
      "source": [
        "#saving  the comparative analysis to csv\n",
        "df.to_csv(\"tata_news_comparative.csv\", index=False)\n",
        "df_comparison.to_csv(\"tata_news_comparison_report.csv\", index=False)\n",
        "files.download(\"tata_news_comparison_report.csv\")"
      ]
    },
    {
      "cell_type": "code",
      "execution_count": null,
      "metadata": {
        "colab": {
          "base_uri": "https://localhost:8080/"
        },
        "id": "YhQTCrZi-MrZ",
        "outputId": "8e2076f5-5c63-4e09-df6f-cce966c2aee2"
      },
      "outputs": [
        {
          "output_type": "stream",
          "name": "stdout",
          "text": [
            "Requirement already satisfied: gtts in /usr/local/lib/python3.11/dist-packages (2.5.4)\n",
            "Requirement already satisfied: requests<3,>=2.27 in /usr/local/lib/python3.11/dist-packages (from gtts) (2.32.3)\n",
            "Requirement already satisfied: click<8.2,>=7.1 in /usr/local/lib/python3.11/dist-packages (from gtts) (8.1.8)\n",
            "Requirement already satisfied: charset-normalizer<4,>=2 in /usr/local/lib/python3.11/dist-packages (from requests<3,>=2.27->gtts) (3.4.1)\n",
            "Requirement already satisfied: idna<4,>=2.5 in /usr/local/lib/python3.11/dist-packages (from requests<3,>=2.27->gtts) (2.10)\n",
            "Requirement already satisfied: urllib3<3,>=1.21.1 in /usr/local/lib/python3.11/dist-packages (from requests<3,>=2.27->gtts) (2.3.0)\n",
            "Requirement already satisfied: certifi>=2017.4.17 in /usr/local/lib/python3.11/dist-packages (from requests<3,>=2.27->gtts) (2025.1.31)\n"
          ]
        }
      ],
      "source": [
        "!pip install gtts"
      ]
    },
    {
      "cell_type": "code",
      "execution_count": null,
      "metadata": {
        "colab": {
          "base_uri": "https://localhost:8080/"
        },
        "id": "I7dN5Sg4-uSG",
        "outputId": "ed9e7748-7eca-40da-ee1c-0b3aaae0c12f"
      },
      "outputs": [
        {
          "output_type": "stream",
          "name": "stdout",
          "text": [
            "Requirement already satisfied: googletrans==4.0.0-rc1 in /usr/local/lib/python3.11/dist-packages (4.0.0rc1)\n",
            "Requirement already satisfied: httpx==0.13.3 in /usr/local/lib/python3.11/dist-packages (from googletrans==4.0.0-rc1) (0.13.3)\n",
            "Requirement already satisfied: certifi in /usr/local/lib/python3.11/dist-packages (from httpx==0.13.3->googletrans==4.0.0-rc1) (2025.1.31)\n",
            "Requirement already satisfied: hstspreload in /usr/local/lib/python3.11/dist-packages (from httpx==0.13.3->googletrans==4.0.0-rc1) (2025.1.1)\n",
            "Requirement already satisfied: sniffio in /usr/local/lib/python3.11/dist-packages (from httpx==0.13.3->googletrans==4.0.0-rc1) (1.3.1)\n",
            "Requirement already satisfied: chardet==3.* in /usr/local/lib/python3.11/dist-packages (from httpx==0.13.3->googletrans==4.0.0-rc1) (3.0.4)\n",
            "Requirement already satisfied: idna==2.* in /usr/local/lib/python3.11/dist-packages (from httpx==0.13.3->googletrans==4.0.0-rc1) (2.10)\n",
            "Requirement already satisfied: rfc3986<2,>=1.3 in /usr/local/lib/python3.11/dist-packages (from httpx==0.13.3->googletrans==4.0.0-rc1) (1.5.0)\n",
            "Requirement already satisfied: httpcore==0.9.* in /usr/local/lib/python3.11/dist-packages (from httpx==0.13.3->googletrans==4.0.0-rc1) (0.9.1)\n",
            "Requirement already satisfied: h11<0.10,>=0.8 in /usr/local/lib/python3.11/dist-packages (from httpcore==0.9.*->httpx==0.13.3->googletrans==4.0.0-rc1) (0.9.0)\n",
            "Requirement already satisfied: h2==3.* in /usr/local/lib/python3.11/dist-packages (from httpcore==0.9.*->httpx==0.13.3->googletrans==4.0.0-rc1) (3.2.0)\n",
            "Requirement already satisfied: hyperframe<6,>=5.2.0 in /usr/local/lib/python3.11/dist-packages (from h2==3.*->httpcore==0.9.*->httpx==0.13.3->googletrans==4.0.0-rc1) (5.2.0)\n",
            "Requirement already satisfied: hpack<4,>=3.0 in /usr/local/lib/python3.11/dist-packages (from h2==3.*->httpcore==0.9.*->httpx==0.13.3->googletrans==4.0.0-rc1) (3.0.0)\n"
          ]
        }
      ],
      "source": [
        "!pip install googletrans==4.0.0-rc1\n"
      ]
    },
    {
      "cell_type": "markdown",
      "metadata": {
        "id": "BkSPFMLbIcJW"
      },
      "source": [
        "## Features of This Code\n",
        "# Sentiment Analysis: Classifies each article as Positive, Neutral, or Negative\n",
        "# Comparative Analysis: Generates summary of sentiment distribution\n",
        "# Hindi TTS: Converts entire comparative report to Hindi speech\n",
        "# Downloadable Audio: Users can play and download the Hindi audio"
      ]
    },
    {
      "cell_type": "code",
      "execution_count": null,
      "metadata": {
        "colab": {
          "base_uri": "https://localhost:8080/",
          "height": 165
        },
        "id": "k2IJZ8gDAYty",
        "outputId": "5dbcf857-eab3-42f1-9127-ebd57bbcd99d"
      },
      "outputs": [
        {
          "output_type": "stream",
          "name": "stdout",
          "text": [
            " Sentiment analysis completed.\n",
            "🔹 Comparative Summary: Out of 10 articles, 4 articles are positive, 4 articles are neutral, and 2 articles are negative. The overall sentiment towards Tata Group is mostly positive.\n",
            "🔊 Hindi Summary: 10 लेखों में से, 4 लेख सकारात्मक हैं, 4 लेख तटस्थ हैं, और 2 लेख नकारात्मक हैं।टाटा समूह के प्रति समग्र भावना ज्यादातर सकारात्मक है।\n",
            "🎵 Hindi audio file 'comparative_analysis.mp3' is saved!\n"
          ]
        },
        {
          "output_type": "execute_result",
          "data": {
            "text/plain": [
              "<IPython.lib.display.Audio object>"
            ],
            "text/html": [
              "\n",
              "                <audio  controls=\"controls\" autoplay=\"autoplay\">\n",
              "                    <source src=\"data:audio/mpeg;base64,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\" type=\"audio/mpeg\" />\n",
              "                    Your browser does not support the audio element.\n",
              "                </audio>\n",
              "              "
            ]
          },
          "metadata": {},
          "execution_count": 110
        }
      ],
      "source": [
        "from gtts import gTTS\n",
        "import pandas as pd\n",
        "from googletrans import Translator\n",
        "from gtts import gTTS\n",
        "import pandas as pd\n",
        "from googletrans import Translator\n",
        "from textblob import TextBlob\n",
        "\n",
        "# Load the correct dataset that contains the \"Summary\" column\n",
        "df = pd.read_csv(\"tata_news_sentiment.csv\")  # Changed from \"tata_news_comparison_report.csv\"\n",
        "\n",
        "\n",
        "# Function to get sentiment\n",
        "def get_sentiment(text):\n",
        "    polarity = TextBlob(text).sentiment.polarity\n",
        "    if polarity > 0:\n",
        "        return \"Positive\"\n",
        "    elif polarity < 0:\n",
        "        return \"Negative\"\n",
        "    else:\n",
        "        return \"Neutral\"\n",
        "\n",
        "# Apply sentiment analysis\n",
        "df[\"Sentiment\"] = df[\"Summary\"].apply(get_sentiment)\n",
        "\n",
        "# Generate comparative summary\n",
        "sentiment_counts = df[\"Sentiment\"].value_counts().to_dict()\n",
        "comparative_summary = (\n",
        "    f\"Out of {len(df)} articles, {sentiment_counts.get('Positive', 0)} articles are positive, \"\n",
        "    f\"{sentiment_counts.get('Neutral', 0)} articles are neutral, \"\n",
        "    f\"and {sentiment_counts.get('Negative', 0)} articles are negative. \"\n",
        "    \"The overall sentiment towards Tata Group is mostly \"\n",
        "    f\"{'positive' if sentiment_counts.get('Positive', 0) > sentiment_counts.get('Negative', 0) else 'neutral or negative'}.\"\n",
        ")\n",
        "\n",
        "# Translate summary to Hindi\n",
        "translator = Translator()\n",
        "translated_summary = translator.translate(comparative_summary, src='en', dest='hi').text\n",
        "\n",
        "# Convert translated summary to speech\n",
        "tts = gTTS(text=translated_summary, lang='hi')\n",
        "tts.save(\"comparative_analysis.mp3\")\n",
        "\n",
        "# Print results\n",
        "print(\" Sentiment analysis completed.\")\n",
        "print(\"🔹 Comparative Summary:\", comparative_summary)\n",
        "print(\"🔊 Hindi Summary:\", translated_summary)\n",
        "print(\"🎵 Hindi audio file 'comparative_analysis.mp3' is saved!\")\n",
        "\n",
        "#\n",
        "import IPython.display as ipd\n",
        "ipd.Audio(\"comparative_analysis.mp3\", autoplay=True)\n"
      ]
    },
    {
      "cell_type": "code",
      "source": [
        "!pip install flask flask_cors streamlit requests beautifulsoup4 textblob"
      ],
      "metadata": {
        "colab": {
          "base_uri": "https://localhost:8080/"
        },
        "id": "fo6PoQsylWKM",
        "outputId": "c09e84ba-0ac0-485e-98b5-956af076a5e0"
      },
      "execution_count": null,
      "outputs": [
        {
          "output_type": "stream",
          "name": "stdout",
          "text": [
            "Requirement already satisfied: flask in /usr/local/lib/python3.11/dist-packages (3.1.0)\n",
            "Requirement already satisfied: flask_cors in /usr/local/lib/python3.11/dist-packages (5.0.1)\n",
            "Requirement already satisfied: streamlit in /usr/local/lib/python3.11/dist-packages (1.43.2)\n",
            "Requirement already satisfied: requests in /usr/local/lib/python3.11/dist-packages (2.32.3)\n",
            "Requirement already satisfied: beautifulsoup4 in /usr/local/lib/python3.11/dist-packages (4.13.3)\n",
            "Requirement already satisfied: textblob in /usr/local/lib/python3.11/dist-packages (0.19.0)\n",
            "Requirement already satisfied: Werkzeug>=3.1 in /usr/local/lib/python3.11/dist-packages (from flask) (3.1.3)\n",
            "Requirement already satisfied: Jinja2>=3.1.2 in /usr/local/lib/python3.11/dist-packages (from flask) (3.1.6)\n",
            "Requirement already satisfied: itsdangerous>=2.2 in /usr/local/lib/python3.11/dist-packages (from flask) (2.2.0)\n",
            "Requirement already satisfied: click>=8.1.3 in /usr/local/lib/python3.11/dist-packages (from flask) (8.1.8)\n",
            "Requirement already satisfied: blinker>=1.9 in /usr/local/lib/python3.11/dist-packages (from flask) (1.9.0)\n",
            "Requirement already satisfied: altair<6,>=4.0 in /usr/local/lib/python3.11/dist-packages (from streamlit) (5.5.0)\n",
            "Requirement already satisfied: cachetools<6,>=4.0 in /usr/local/lib/python3.11/dist-packages (from streamlit) (5.5.2)\n",
            "Requirement already satisfied: numpy<3,>=1.23 in /usr/local/lib/python3.11/dist-packages (from streamlit) (2.0.2)\n",
            "Requirement already satisfied: packaging<25,>=20 in /usr/local/lib/python3.11/dist-packages (from streamlit) (24.2)\n",
            "Requirement already satisfied: pandas<3,>=1.4.0 in /usr/local/lib/python3.11/dist-packages (from streamlit) (2.2.2)\n",
            "Requirement already satisfied: pillow<12,>=7.1.0 in /usr/local/lib/python3.11/dist-packages (from streamlit) (11.1.0)\n",
            "Requirement already satisfied: protobuf<6,>=3.20 in /usr/local/lib/python3.11/dist-packages (from streamlit) (5.29.3)\n",
            "Requirement already satisfied: pyarrow>=7.0 in /usr/local/lib/python3.11/dist-packages (from streamlit) (18.1.0)\n",
            "Requirement already satisfied: tenacity<10,>=8.1.0 in /usr/local/lib/python3.11/dist-packages (from streamlit) (9.0.0)\n",
            "Requirement already satisfied: toml<2,>=0.10.1 in /usr/local/lib/python3.11/dist-packages (from streamlit) (0.10.2)\n",
            "Requirement already satisfied: typing-extensions<5,>=4.4.0 in /usr/local/lib/python3.11/dist-packages (from streamlit) (4.12.2)\n",
            "Requirement already satisfied: watchdog<7,>=2.1.5 in /usr/local/lib/python3.11/dist-packages (from streamlit) (6.0.0)\n",
            "Requirement already satisfied: gitpython!=3.1.19,<4,>=3.0.7 in /usr/local/lib/python3.11/dist-packages (from streamlit) (3.1.44)\n",
            "Requirement already satisfied: pydeck<1,>=0.8.0b4 in /usr/local/lib/python3.11/dist-packages (from streamlit) (0.9.1)\n",
            "Requirement already satisfied: tornado<7,>=6.0.3 in /usr/local/lib/python3.11/dist-packages (from streamlit) (6.4.2)\n",
            "Requirement already satisfied: charset-normalizer<4,>=2 in /usr/local/lib/python3.11/dist-packages (from requests) (3.4.1)\n",
            "Requirement already satisfied: idna<4,>=2.5 in /usr/local/lib/python3.11/dist-packages (from requests) (2.10)\n",
            "Requirement already satisfied: urllib3<3,>=1.21.1 in /usr/local/lib/python3.11/dist-packages (from requests) (2.3.0)\n",
            "Requirement already satisfied: certifi>=2017.4.17 in /usr/local/lib/python3.11/dist-packages (from requests) (2025.1.31)\n",
            "Requirement already satisfied: soupsieve>1.2 in /usr/local/lib/python3.11/dist-packages (from beautifulsoup4) (2.6)\n",
            "Requirement already satisfied: nltk>=3.9 in /usr/local/lib/python3.11/dist-packages (from textblob) (3.9.1)\n",
            "Requirement already satisfied: jsonschema>=3.0 in /usr/local/lib/python3.11/dist-packages (from altair<6,>=4.0->streamlit) (4.23.0)\n",
            "Requirement already satisfied: narwhals>=1.14.2 in /usr/local/lib/python3.11/dist-packages (from altair<6,>=4.0->streamlit) (1.31.0)\n",
            "Requirement already satisfied: gitdb<5,>=4.0.1 in /usr/local/lib/python3.11/dist-packages (from gitpython!=3.1.19,<4,>=3.0.7->streamlit) (4.0.12)\n",
            "Requirement already satisfied: MarkupSafe>=2.0 in /usr/local/lib/python3.11/dist-packages (from Jinja2>=3.1.2->flask) (3.0.2)\n",
            "Requirement already satisfied: joblib in /usr/local/lib/python3.11/dist-packages (from nltk>=3.9->textblob) (1.4.2)\n",
            "Requirement already satisfied: regex>=2021.8.3 in /usr/local/lib/python3.11/dist-packages (from nltk>=3.9->textblob) (2024.11.6)\n",
            "Requirement already satisfied: tqdm in /usr/local/lib/python3.11/dist-packages (from nltk>=3.9->textblob) (4.67.1)\n",
            "Requirement already satisfied: python-dateutil>=2.8.2 in /usr/local/lib/python3.11/dist-packages (from pandas<3,>=1.4.0->streamlit) (2.8.2)\n",
            "Requirement already satisfied: pytz>=2020.1 in /usr/local/lib/python3.11/dist-packages (from pandas<3,>=1.4.0->streamlit) (2025.1)\n",
            "Requirement already satisfied: tzdata>=2022.7 in /usr/local/lib/python3.11/dist-packages (from pandas<3,>=1.4.0->streamlit) (2025.1)\n",
            "Requirement already satisfied: smmap<6,>=3.0.1 in /usr/local/lib/python3.11/dist-packages (from gitdb<5,>=4.0.1->gitpython!=3.1.19,<4,>=3.0.7->streamlit) (5.0.2)\n",
            "Requirement already satisfied: attrs>=22.2.0 in /usr/local/lib/python3.11/dist-packages (from jsonschema>=3.0->altair<6,>=4.0->streamlit) (25.3.0)\n",
            "Requirement already satisfied: jsonschema-specifications>=2023.03.6 in /usr/local/lib/python3.11/dist-packages (from jsonschema>=3.0->altair<6,>=4.0->streamlit) (2024.10.1)\n",
            "Requirement already satisfied: referencing>=0.28.4 in /usr/local/lib/python3.11/dist-packages (from jsonschema>=3.0->altair<6,>=4.0->streamlit) (0.36.2)\n",
            "Requirement already satisfied: rpds-py>=0.7.1 in /usr/local/lib/python3.11/dist-packages (from jsonschema>=3.0->altair<6,>=4.0->streamlit) (0.23.1)\n",
            "Requirement already satisfied: six>=1.5 in /usr/local/lib/python3.11/dist-packages (from python-dateutil>=2.8.2->pandas<3,>=1.4.0->streamlit) (1.17.0)\n"
          ]
        }
      ]
    },
    {
      "cell_type": "code",
      "source": [
        "with open(\"api.py\", \"w\") as f:\n",
        "    f.write('''from flask import Flask, jsonify, request\n",
        "from flask_cors import CORS\n",
        "import requests\n",
        "from bs4 import BeautifulSoup\n",
        "from textblob import TextBlob\n",
        "\n",
        "app = Flask(__name__)\n",
        "CORS(app)  # Enable CORS for frontend-backend communication\n",
        "\n",
        "# Function to fetch news articles from Google News RSS\n",
        "def fetch_news(company):\n",
        "    url = f\"/content/tata_news_sentiment.csv\"\n",
        "    response = requests.get(url)\n",
        "    soup = BeautifulSoup(response.content, \"xml\")\n",
        "    articles = soup.find_all(\"item\")\n",
        "\n",
        "    if not articles:  # If no articles found, return empty\n",
        "        return []\n",
        "\n",
        "    news_data = []\n",
        "    for article in articles[:5]:  # Fetch only top 5 articles\n",
        "        title = article.title.text\n",
        "        link = article.link.text\n",
        "        news_data.append({\"title\": title, \"link\": link})\n",
        "\n",
        "    return news_data\n",
        "\n",
        "# Function for sentiment analysis\n",
        "def analyze_sentiment(text):\n",
        "    analysis = TextBlob(text)\n",
        "    polarity = analysis.sentiment.polarity\n",
        "    if polarity > 0:\n",
        "        return \"Positive\"\n",
        "    elif polarity < 0:\n",
        "        return \"Negative\"\n",
        "    else:\n",
        "        return \"Neutral\"\n",
        "\n",
        "# API Endpoint to fetch news and sentiment\n",
        "@app.route(\"/news\", methods=[\"GET\"])\n",
        "def get_news():\n",
        "    company = request.args.get(\"company\")\n",
        "\n",
        "    if not company:\n",
        "        return jsonify({\"error\": \"No company name provided\"}), 400\n",
        "\n",
        "    news_articles = fetch_news(company)\n",
        "\n",
        "    if not news_articles:\n",
        "        return jsonify({\"message\": \"No articles found\", \"articles\": []})\n",
        "\n",
        "    # Perform sentiment analysis on article titles\n",
        "    for article in news_articles:\n",
        "        article[\"sentiment\"] = analyze_sentiment(article[\"title\"])\n",
        "\n",
        "    return jsonify({\"company\": company, \"articles\": news_articles})\n",
        "\n",
        "if __name__ == \"__main__\":\n",
        "    app.run(host=\"0.0.0.0\", port=5000, debug=True)\n",
        "''')\n"
      ],
      "metadata": {
        "id": "DJwXpw3albi1"
      },
      "execution_count": null,
      "outputs": []
    },
    {
      "cell_type": "code",
      "source": [
        "!python api.py\n"
      ],
      "metadata": {
        "colab": {
          "base_uri": "https://localhost:8080/"
        },
        "id": "DjdcJ9WNlpX4",
        "outputId": "c5439fa4-9c8f-47c8-ce38-5820fe9aa3f1"
      },
      "execution_count": null,
      "outputs": [
        {
          "output_type": "stream",
          "name": "stdout",
          "text": [
            " * Serving Flask app 'api'\n",
            " * Debug mode: on\n",
            "\u001b[31m\u001b[1mWARNING: This is a development server. Do not use it in a production deployment. Use a production WSGI server instead.\u001b[0m\n",
            " * Running on all addresses (0.0.0.0)\n",
            " * Running on http://127.0.0.1:5000\n",
            " * Running on http://172.28.0.12:5000\n",
            "\u001b[33mPress CTRL+C to quit\u001b[0m\n",
            " * Restarting with watchdog (inotify)\n",
            " * Debugger is active!\n",
            " * Debugger PIN: 475-468-511\n"
          ]
        }
      ]
    },
    {
      "cell_type": "code",
      "source": [
        "!npm install -g localtunnel"
      ],
      "metadata": {
        "colab": {
          "base_uri": "https://localhost:8080/"
        },
        "id": "dBzjiZU1l7aa",
        "outputId": "6a858a10-1491-4f3d-89a7-11b4b13acdb0"
      },
      "execution_count": null,
      "outputs": [
        {
          "output_type": "stream",
          "name": "stdout",
          "text": [
            "\u001b[1G\u001b[0K⠙\u001b[1G\u001b[0K⠹\u001b[1G\u001b[0K⠸\u001b[1G\u001b[0K⠼\u001b[1G\u001b[0K⠴\u001b[1G\u001b[0K⠦\u001b[1G\u001b[0K⠧\u001b[1G\u001b[0K⠇\u001b[1G\u001b[0K⠏\u001b[1G\u001b[0K⠋\u001b[1G\u001b[0K⠙\u001b[1G\u001b[0K⠹\u001b[1G\u001b[0K⠸\u001b[1G\u001b[0K⠼\u001b[1G\u001b[0K⠴\u001b[1G\u001b[0K⠦\u001b[1G\u001b[0K⠧\u001b[1G\u001b[0K⠇\u001b[1G\u001b[0K⠏\u001b[1G\u001b[0K⠋\u001b[1G\u001b[0K\n",
            "changed 22 packages in 2s\n",
            "\u001b[1G\u001b[0K⠋\u001b[1G\u001b[0K\n",
            "\u001b[1G\u001b[0K⠋\u001b[1G\u001b[0K3 packages are looking for funding\n",
            "\u001b[1G\u001b[0K⠋\u001b[1G\u001b[0K  run `npm fund` for details\n",
            "\u001b[1G\u001b[0K⠋\u001b[1G\u001b[0K"
          ]
        }
      ]
    },
    {
      "cell_type": "code",
      "source": [
        "!wget -q -O - ipv4.icanhazip.com"
      ],
      "metadata": {
        "colab": {
          "base_uri": "https://localhost:8080/"
        },
        "id": "xce9k10mmyjR",
        "outputId": "af1a6a21-99b9-4899-d79d-74b497cbd8cb"
      },
      "execution_count": null,
      "outputs": [
        {
          "output_type": "stream",
          "name": "stdout",
          "text": [
            "34.138.85.229\n"
          ]
        }
      ]
    },
    {
      "cell_type": "code",
      "source": [
        "!streamlit run app.py & npx localtunnel --port 8501"
      ],
      "metadata": {
        "colab": {
          "base_uri": "https://localhost:8080/"
        },
        "id": "2P3EoE0SmZjq",
        "outputId": "9ab8e1bd-35f1-4c30-e217-27ea5082a5b8"
      },
      "execution_count": null,
      "outputs": [
        {
          "output_type": "stream",
          "name": "stdout",
          "text": [
            "\n",
            "Collecting usage statistics. To deactivate, set browser.gatherUsageStats to false.\n",
            "\u001b[0m\n",
            "\u001b[1G\u001b[0K⠙\u001b[1G\u001b[0K⠹\u001b[1G\u001b[0K⠸\u001b[0m\n",
            "\u001b[34m\u001b[1m  You can now view your Streamlit app in your browser.\u001b[0m\n",
            "\u001b[0m\n",
            "\u001b[34m  Local URL: \u001b[0m\u001b[1mhttp://localhost:8501\u001b[0m\n",
            "\u001b[34m  Network URL: \u001b[0m\u001b[1mhttp://172.28.0.12:8501\u001b[0m\n",
            "\u001b[34m  External URL: \u001b[0m\u001b[1mhttp://34.138.85.229:8501\u001b[0m\n",
            "\u001b[0m\n",
            "\u001b[1G\u001b[0K⠼\u001b[1G\u001b[0K⠴\u001b[1G\u001b[0K⠦\u001b[1G\u001b[0Kyour url is: https://gold-pandas-wait.loca.lt\n",
            "\u001b[34m  Stopping...\u001b[0m\n",
            "^C\n"
          ]
        }
      ]
    },
    {
      "cell_type": "markdown",
      "metadata": {
        "id": "YkeFjPFB-tlL"
      },
      "source": [
        "END."
      ]
    },
    {
      "cell_type": "code",
      "execution_count": null,
      "metadata": {
        "id": "JxXCphqsj7Lt"
      },
      "outputs": [],
      "source": []
    }
  ],
  "metadata": {
    "colab": {
      "provenance": []
    },
    "kernelspec": {
      "display_name": "Python 3",
      "name": "python3"
    },
    "language_info": {
      "name": "python"
    }
  },
  "nbformat": 4,
  "nbformat_minor": 0
}